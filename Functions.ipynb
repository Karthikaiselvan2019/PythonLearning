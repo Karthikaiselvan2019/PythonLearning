{
 "cells": [
  {
   "cell_type": "markdown",
   "metadata": {},
   "source": [
    "# *args"
   ]
  },
  {
   "cell_type": "code",
   "execution_count": 4,
   "metadata": {},
   "outputs": [
    {
     "data": {
      "text/plain": [
       "30"
      ]
     },
     "execution_count": 4,
     "metadata": {},
     "output_type": "execute_result"
    }
   ],
   "source": [
    "def myfun(a,b):\n",
    "    #return a+b\n",
    "    return sum((a,b))\n",
    "myfun(10,20)"
   ]
  },
  {
   "cell_type": "code",
   "execution_count": 5,
   "metadata": {},
   "outputs": [
    {
     "data": {
      "text/plain": [
       "60"
      ]
     },
     "execution_count": 5,
     "metadata": {},
     "output_type": "execute_result"
    }
   ],
   "source": [
    "#define n number of arguments\n",
    "def myfun_many(*args):\n",
    "    return(sum(args))\n",
    "\n",
    "myfun_many(10,20,30)"
   ]
  },
  {
   "cell_type": "markdown",
   "metadata": {},
   "source": [
    "# **kwargs"
   ]
  },
  {
   "cell_type": "code",
   "execution_count": 14,
   "metadata": {},
   "outputs": [
    {
     "name": "stdout",
     "output_type": "stream",
     "text": [
      "I like Apple\n",
      "I like Potato\n"
     ]
    }
   ],
   "source": [
    "def myfun_kwargs(**kwargs):\n",
    "    if ('vegitable') in kwargs:\n",
    "        print('I like Potato')\n",
    "    elif 'fruit' in kwargs:\n",
    "        print('I like Apple')\n",
    "    else:\n",
    "        print('Don''t like fruits')\n",
    "        \n",
    "myfun_kwargs(fruit='Apple')\n",
    "myfun_kwargs(vegitable='Potato')        "
   ]
  },
  {
   "cell_type": "code",
   "execution_count": 26,
   "metadata": {},
   "outputs": [
    {
     "name": "stdout",
     "output_type": "stream",
     "text": [
      "Name: Karthik\n",
      "Age: 32\n",
      "Mark: 50\n"
     ]
    }
   ],
   "source": [
    "#Example for **kwargs\n",
    "def myfun_stud_det(**kwargs):\n",
    "    if 'Name' in kwargs:\n",
    "        print('Name: Karthik')\n",
    "    elif 'Age' in kwargs:\n",
    "        print('Age: 32')\n",
    "    elif 'Mark' in kwargs:\n",
    "        print('Mark: 50')\n",
    "    else:\n",
    "        print(' ')\n",
    "        \n",
    "myfun_stud_det(Name='Karthik')\n",
    "myfun_stud_det(Age='32')\n",
    "myfun_stud_det(Mark='50')"
   ]
  },
  {
   "cell_type": "code",
   "execution_count": null,
   "metadata": {},
   "outputs": [],
   "source": []
  }
 ],
 "metadata": {
  "kernelspec": {
   "display_name": "Python 3",
   "language": "python",
   "name": "python3"
  },
  "language_info": {
   "codemirror_mode": {
    "name": "ipython",
    "version": 3
   },
   "file_extension": ".py",
   "mimetype": "text/x-python",
   "name": "python",
   "nbconvert_exporter": "python",
   "pygments_lexer": "ipython3",
   "version": "3.7.1"
  }
 },
 "nbformat": 4,
 "nbformat_minor": 2
}
